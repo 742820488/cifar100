{
 "cells": [
  {
   "cell_type": "code",
   "execution_count": 1,
   "metadata": {},
   "outputs": [],
   "source": [
    "from torchvision.models import resnet18\n",
    "from torchvision.datasets import CIFAR100\n",
    "import torch.nn as nn\n",
    "from torch.utils.data.dataloader import DataLoader\n",
    "import torchvision.transforms as transforms\n",
    "import torch\n",
    "from torch.backends import cudnn\n",
    "import random\n",
    "import numpy as np\n",
    "from torch.optim import Adam,SGD\n",
    "from torch.optim import lr_scheduler\n",
    "\n",
    "%matplotlib inline\n",
    "import matplotlib.pyplot as plt\n",
    "\n",
    "cudnn.benchmark = False\n",
    "cudnn.deterministic = True\n",
    "seed=42\n",
    "random.seed(seed)\n",
    "np.random.seed(seed)\n",
    "torch.manual_seed(seed)\n",
    "torch.cuda.manual_seed(seed)\n",
    "torch.cuda.manual_seed_all(seed)"
   ]
  },
  {
   "cell_type": "code",
   "execution_count": 2,
   "metadata": {},
   "outputs": [],
   "source": [
    "class ACC(object):\n",
    "    def __init__(self):\n",
    "        self.current_acc=0.0\n",
    "        self.avg_acc=0.0\n",
    "        self.count=0\n",
    "    def update(self,current_acc):\n",
    "        self.avg_acc*=self.count\n",
    "        self.current_acc=current_acc\n",
    "        self.avg_acc+=current_acc\n",
    "        self.count+=1\n",
    "        self.avg_acc=self.avg_acc/self.count\n",
    "        \n",
    "class Loss(object):\n",
    "    def __init__(self):\n",
    "        self.current_loss=0.0\n",
    "        self.avg_loss=0.0\n",
    "        self.count=0\n",
    "    def update(self,current_loss):\n",
    "        self.avg_loss*=self.count\n",
    "        self.current_loss=current_loss\n",
    "        self.avg_loss+=current_loss\n",
    "        self.count+=1\n",
    "        self.avg_loss=self.avg_loss/self.count"
   ]
  },
  {
   "cell_type": "code",
   "execution_count": 3,
   "metadata": {},
   "outputs": [],
   "source": [
    "def acc_(feature,label):\n",
    "    pre=feature.argmax(1)\n",
    "    return float((pre==label).sum().item())/pre.size(0)"
   ]
  },
  {
   "cell_type": "code",
   "execution_count": 4,
   "metadata": {},
   "outputs": [],
   "source": [
    "class CenterLoss(nn.Module):\n",
    "    \"\"\"Center loss.\n",
    "    \n",
    "    Reference:\n",
    "    Wen et al. A Discriminative Feature Learning Approach for Deep Face Recognition. ECCV 2016.\n",
    "    \n",
    "    Args:\n",
    "        num_classes (int): number of classes.\n",
    "        feat_dim (int): feature dimension.\n",
    "    \"\"\"\n",
    "    def __init__(self, num_classes=10, feat_dim=2, use_gpu=True):\n",
    "        super(CenterLoss, self).__init__()\n",
    "        self.num_classes = num_classes\n",
    "        self.feat_dim = feat_dim\n",
    "        self.use_gpu = use_gpu\n",
    "\n",
    "        if self.use_gpu:\n",
    "            self.centers = nn.Parameter(torch.randn(self.num_classes, self.feat_dim).cuda())\n",
    "        else:\n",
    "            self.centers = nn.Parameter(torch.randn(self.num_classes, self.feat_dim))\n",
    "\n",
    "    def forward(self, x, labels):\n",
    "        \"\"\"\n",
    "        Args:\n",
    "            x: feature matrix with shape (batch_size, feat_dim).\n",
    "            labels: ground truth labels with shape (batch_size).\n",
    "        \"\"\"\n",
    "        batch_size = x.size(0)\n",
    "        distmat = torch.pow(x, 2).sum(dim=1, keepdim=True).expand(batch_size, self.num_classes) + \\\n",
    "                  torch.pow(self.centers, 2).sum(dim=1, keepdim=True).expand(self.num_classes, batch_size).t()\n",
    "        distmat.addmm_(1, -2, x, self.centers.t())\n",
    "\n",
    "        classes = torch.arange(self.num_classes).long()\n",
    "        if self.use_gpu: classes = classes.cuda()\n",
    "        labels = labels.unsqueeze(1).expand(batch_size, self.num_classes)\n",
    "        mask = labels.eq(classes.expand(batch_size, self.num_classes))\n",
    "\n",
    "        dist = distmat * mask.float()\n",
    "        loss = dist.clamp(min=1e-12, max=1e+12).sum() / batch_size\n",
    "\n",
    "        return loss"
   ]
  },
  {
   "cell_type": "code",
   "execution_count": 5,
   "metadata": {},
   "outputs": [],
   "source": [
    "def getmodel():\n",
    "    size_size=96\n",
    "    model=resnet18()\n",
    "    pre_weight=torch.load('/raid/lcq/premdoel_pytorch/resnet18-5c106cde.pth')\n",
    "    model.load_state_dict(pre_weight)\n",
    "    model.avgpool = nn.AvgPool2d(size_size//32)\n",
    "    model.fc = nn.Linear(512 , 100)\n",
    "    return model,size_size\n"
   ]
  },
  {
   "cell_type": "code",
   "execution_count": 6,
   "metadata": {
    "scrolled": true
   },
   "outputs": [],
   "source": [
    "def train_test(model,use_center_loss=False,size_size=224):\n",
    "    transform=transforms.Compose([\n",
    "    transforms.Resize(size_size),\n",
    "    transforms.ToTensor(),\n",
    "    transforms.Normalize(\n",
    "         mean=[0.485, 0.456, 0.406],\n",
    "         std=[0.229, 0.224, 0.225])\n",
    "    ])\n",
    "    data_train=CIFAR100('./data',download=True,transform=transform)\n",
    "    data_test=CIFAR100('./data',download=True,train=False,transform=transform)\n",
    "    data_loader=DataLoader(data_train,batch_size=128,num_workers=8,shuffle=True)\n",
    "    test_loader=DataLoader(data_test,batch_size=64,num_workers=8)\n",
    "    model_ability={\n",
    "        'train_loss':[],\n",
    "        'test_loss':[],\n",
    "        'train_acc':[],\n",
    "        'test_acc':[],\n",
    "        'test_max_acc':0.0\n",
    "    }\n",
    "    aCC=ACC()\n",
    "    lOSS=Loss()\n",
    "    criterion=nn.CrossEntropyLoss()\n",
    "    if use_center_loss:\n",
    "        if torch.cuda.is_available():\n",
    "            use_gpu=True\n",
    "        else:\n",
    "            use_gpu=False\n",
    "        criterion_center=CenterLoss(num_classes=100, feat_dim=100, use_gpu=use_gpu)\n",
    "        optimizer_centloss = Adam(criterion_center.parameters(), lr=1e-3)\n",
    "        weight_cent=1\n",
    "        if torch.cuda.is_available():\n",
    "            criterion_center.cuda()\n",
    "    if torch.cuda.is_available():\n",
    "        model.cuda()\n",
    "        criterion.cuda()\n",
    "    optimizer=Adam(model.parameters(),lr=1e-3,weight_decay=5e-04)\n",
    "    scheduler = lr_scheduler.StepLR(optimizer, step_size=10, gamma=0.5)\n",
    "    freq=0\n",
    "    test_max=0\n",
    "    for epoch in range(40):\n",
    "        model.train()\n",
    "        if epoch >0:\n",
    "            scheduler.step()\n",
    "        for (img,label) in data_loader:\n",
    "            if torch.cuda.is_available():\n",
    "                img=img.cuda()\n",
    "                label=label.cuda()\n",
    "            feature=model(img)\n",
    "            if not use_center_loss:\n",
    "                loss=criterion(feature,label)\n",
    "                optimizer.zero_grad()\n",
    "                loss.backward()\n",
    "                optimizer.step()\n",
    "            else:\n",
    "                loss_cls=criterion(feature,label)\n",
    "                loss_cen=criterion_center(feature,label)\n",
    "                loss_cen*=weight_cent\n",
    "                loss=loss_cls+loss_cen\n",
    "                optimizer.zero_grad()\n",
    "                optimizer_centloss.zero_grad()\n",
    "                loss.backward()\n",
    "                optimizer.step()\n",
    "                for param in criterion_center.parameters():\n",
    "                    param.grad.data *= (1. / weight_cent)\n",
    "                optimizer_centloss.step()\n",
    "            acc=acc_(feature,label)\n",
    "            aCC.update(acc)\n",
    "            lOSS.update(loss.item())\n",
    "            model_ability['train_loss'].append(lOSS.avg_loss)\n",
    "            model_ability['train_acc'].append(aCC.avg_acc)\n",
    "            del img\n",
    "            del label\n",
    "            del feature\n",
    "            freq+=1\n",
    "        if epoch >0 and epoch %2==0 or (epoch+1)==100:\n",
    "            test_acc=ACC()\n",
    "            test_loss=Loss()\n",
    "            model.eval()\n",
    "            for (img,label) in test_loader:\n",
    "                if torch.cuda.is_available():\n",
    "                    img=img.cuda()\n",
    "                    label=label.cuda()\n",
    "                feature=model(img)\n",
    "                loss=criterion(feature,label)\n",
    "                acc=acc_(feature,label)\n",
    "                test_acc.update(acc)\n",
    "                test_loss.update(loss.item())\n",
    "                del img\n",
    "                del label\n",
    "                del feature\n",
    "            if test_acc.avg_acc>=test_max:\n",
    "                test_max=test_acc.avg_acc\n",
    "            train_log='TRAIN: [{}/{}] LOSS:[{:.7f}/{:.7f}] ACC:[{:.7f}/{:.7f}]'.format(freq,epoch,lOSS.current_loss,lOSS.avg_loss,aCC.current_acc,aCC.avg_acc)\n",
    "            test_log='TEST>>: [{}/{}] LOSS:[{:.7f}] ACC:[{:.7f}] MAX TEST ACC:{:.7f}'.format(freq,epoch,test_loss.avg_loss,test_acc.avg_acc,test_max)\n",
    "            model_ability['test_loss'].append(test_loss.avg_loss)\n",
    "            model_ability['test_acc'].append(test_acc.avg_acc)\n",
    "            model_ability['test_max_acc']=test_max\n",
    "            print(train_log)\n",
    "            print(test_log)\n",
    "            del test_acc\n",
    "            del test_loss\n",
    "    del model\n",
    "    del optimizer\n",
    "    del scheduler\n",
    "    return model_ability\n"
   ]
  },
  {
   "cell_type": "code",
   "execution_count": 7,
   "metadata": {},
   "outputs": [
    {
     "name": "stdout",
     "output_type": "stream",
     "text": [
      "Files already downloaded and verified\n",
      "Files already downloaded and verified\n",
      "TRAIN: [1173/2] LOSS:[1.5517128/1.3537924] ACC:[0.6125000/0.6157302]\n",
      "TEST>>: [1173/2] LOSS:[1.5708763] ACC:[0.5749403] MAX TEST ACC:0.5749403\n",
      "TRAIN: [1955/4] LOSS:[0.6624342/1.1371590] ACC:[0.8000000/0.6714538]\n",
      "TEST>>: [1955/4] LOSS:[1.5508197] ACC:[0.5835987] MAX TEST ACC:0.5835987\n",
      "TRAIN: [2737/6] LOSS:[0.9312795/0.9941949] ACC:[0.7375000/0.7100663]\n",
      "TEST>>: [2737/6] LOSS:[1.5911902] ACC:[0.5885748] MAX TEST ACC:0.5885748\n",
      "TRAIN: [3519/8] LOSS:[0.7851602/0.8905930] ACC:[0.7375000/0.7388836]\n",
      "TEST>>: [3519/8] LOSS:[1.6549310] ACC:[0.5856887] MAX TEST ACC:0.5885748\n",
      "TRAIN: [4301/10] LOSS:[0.5241329/0.8121816] ACC:[0.8375000/0.7610341]\n",
      "TEST>>: [4301/10] LOSS:[1.6266432] ACC:[0.5915605] MAX TEST ACC:0.5915605\n",
      "TRAIN: [5083/12] LOSS:[0.0742568/0.7021396] ACC:[0.9875000/0.7939821]\n",
      "TEST>>: [5083/12] LOSS:[1.4002488] ACC:[0.6609275] MAX TEST ACC:0.6609275\n",
      "TRAIN: [5865/14] LOSS:[0.4219657/0.6198838] ACC:[0.8875000/0.8187409]\n",
      "TEST>>: [5865/14] LOSS:[1.7889803] ACC:[0.5878782] MAX TEST ACC:0.6609275\n",
      "TRAIN: [6647/16] LOSS:[0.2229887/0.5730270] ACC:[0.9500000/0.8323960]\n",
      "TEST>>: [6647/16] LOSS:[1.6194712] ACC:[0.6274881] MAX TEST ACC:0.6609275\n",
      "TRAIN: [7429/18] LOSS:[0.1692861/0.5243269] ACC:[0.9875000/0.8469004]\n",
      "TEST>>: [7429/18] LOSS:[1.7944828] ACC:[0.5958400] MAX TEST ACC:0.6609275\n",
      "TRAIN: [8211/20] LOSS:[0.2056474/0.4900030] ACC:[0.9500000/0.8570414]\n",
      "TEST>>: [8211/20] LOSS:[1.7517430] ACC:[0.6014132] MAX TEST ACC:0.6609275\n",
      "TRAIN: [8993/22] LOSS:[0.0124306/0.4498561] ACC:[1.0000000/0.8690478]\n",
      "TEST>>: [8993/22] LOSS:[1.4231714] ACC:[0.6640127] MAX TEST ACC:0.6640127\n",
      "TRAIN: [9775/24] LOSS:[0.0373474/0.4146909] ACC:[0.9875000/0.8794636]\n",
      "TEST>>: [9775/24] LOSS:[1.3544823] ACC:[0.6708798] MAX TEST ACC:0.6708798\n",
      "TRAIN: [10557/26] LOSS:[0.0371153/0.3849212] ACC:[1.0000000/0.8883426]\n",
      "TEST>>: [10557/26] LOSS:[1.4479503] ACC:[0.6584395] MAX TEST ACC:0.6708798\n",
      "TRAIN: [11339/28] LOSS:[0.1504854/0.3685259] ACC:[0.9625000/0.8934147]\n",
      "TEST>>: [11339/28] LOSS:[1.6066326] ACC:[0.6291799] MAX TEST ACC:0.6708798\n",
      "TRAIN: [12121/30] LOSS:[0.0464664/0.3465013] ACC:[1.0000000/0.8999906]\n",
      "TEST>>: [12121/30] LOSS:[1.5152985] ACC:[0.6526672] MAX TEST ACC:0.6708798\n",
      "TRAIN: [12903/32] LOSS:[0.0088294/0.3260015] ACC:[1.0000000/0.9060185]\n",
      "TEST>>: [12903/32] LOSS:[1.3912398] ACC:[0.6685908] MAX TEST ACC:0.6708798\n",
      "TRAIN: [13685/34] LOSS:[0.0072142/0.3078076] ACC:[1.0000000/0.9113717]\n",
      "TEST>>: [13685/34] LOSS:[1.3837593] ACC:[0.6740645] MAX TEST ACC:0.6740645\n",
      "TRAIN: [14467/36] LOSS:[0.0139956/0.2916711] ACC:[1.0000000/0.9161441]\n",
      "TEST>>: [14467/36] LOSS:[1.3945570] ACC:[0.6704817] MAX TEST ACC:0.6740645\n",
      "TRAIN: [15249/38] LOSS:[0.0855158/0.2790808] ACC:[1.0000000/0.9200238]\n",
      "TEST>>: [15249/38] LOSS:[1.7102724] ACC:[0.6134554] MAX TEST ACC:0.6740645\n"
     ]
    }
   ],
   "source": [
    "model_without_center_loss,size_size=getmodel()\n",
    "model_ability_without_center_loss=train_test(model_without_center_loss,size_size=size_size)"
   ]
  },
  {
   "cell_type": "code",
   "execution_count": 8,
   "metadata": {},
   "outputs": [
    {
     "name": "stdout",
     "output_type": "stream",
     "text": [
      "Files already downloaded and verified\n",
      "Files already downloaded and verified\n",
      "TRAIN: [1173/2] LOSS:[15.5569048/40.3195978] ACC:[0.0250000/0.0177017]\n",
      "TEST>>: [1173/2] LOSS:[4.3527585] ACC:[0.0316481] MAX TEST ACC:0.0316481\n",
      "TRAIN: [1955/4] LOSS:[8.7327480/28.5478092] ACC:[0.1250000/0.0464466]\n",
      "TEST>>: [1955/4] LOSS:[4.0554307] ACC:[0.1363455] MAX TEST ACC:0.1363455\n",
      "TRAIN: [2737/6] LOSS:[6.6914763/22.2585030] ACC:[0.5250000/0.1363874]\n",
      "TEST>>: [2737/6] LOSS:[3.7288463] ACC:[0.3791799] MAX TEST ACC:0.3791799\n",
      "TRAIN: [3519/8] LOSS:[4.8501282/18.4733743] ACC:[0.6750000/0.2523036]\n",
      "TEST>>: [3519/8] LOSS:[3.5058263] ACC:[0.4959196] MAX TEST ACC:0.4959196\n",
      "TRAIN: [4301/10] LOSS:[4.6238008/15.9313115] ACC:[0.8875000/0.3544960]\n",
      "TEST>>: [4301/10] LOSS:[3.2963056] ACC:[0.5827030] MAX TEST ACC:0.5827030\n",
      "TRAIN: [5083/12] LOSS:[2.8143365/13.9422798] ACC:[0.9625000/0.4434930]\n",
      "TEST>>: [5083/12] LOSS:[2.9207994] ACC:[0.6871019] MAX TEST ACC:0.6871019\n",
      "TRAIN: [5865/14] LOSS:[2.3105376/12.3959113] ACC:[1.0000000/0.5166803]\n",
      "TEST>>: [5865/14] LOSS:[2.6875072] ACC:[0.6982484] MAX TEST ACC:0.6982484\n",
      "TRAIN: [6647/16] LOSS:[4.2246237/11.2679938] ACC:[0.9125000/0.5706468]\n",
      "TEST>>: [6647/16] LOSS:[2.6524879] ACC:[0.6524682] MAX TEST ACC:0.6982484\n",
      "TRAIN: [7429/18] LOSS:[2.0263619/10.3173077] ACC:[1.0000000/0.6145282]\n",
      "TEST>>: [7429/18] LOSS:[2.4355721] ACC:[0.6893909] MAX TEST ACC:0.6982484\n",
      "TRAIN: [8211/20] LOSS:[2.8626342/9.5101992] ACC:[0.9625000/0.6506757]\n",
      "TEST>>: [8211/20] LOSS:[2.4598578] ACC:[0.6433121] MAX TEST ACC:0.6982484\n",
      "TRAIN: [8993/22] LOSS:[1.2034788/8.8068374] ACC:[1.0000000/0.6808085]\n",
      "TEST>>: [8993/22] LOSS:[2.1206597] ACC:[0.7091959] MAX TEST ACC:0.7091959\n",
      "TRAIN: [9775/24] LOSS:[1.0925498/8.1885574] ACC:[1.0000000/0.7062727]\n",
      "TEST>>: [9775/24] LOSS:[2.0488970] ACC:[0.7097930] MAX TEST ACC:0.7097930\n",
      "TRAIN: [10557/26] LOSS:[1.8306141/7.6596214] ACC:[1.0000000/0.7279259]\n",
      "TEST>>: [10557/26] LOSS:[2.0876830] ACC:[0.6710788] MAX TEST ACC:0.7097930\n",
      "TRAIN: [11339/28] LOSS:[1.1669444/7.2139408] ACC:[1.0000000/0.7464409]\n",
      "TEST>>: [11339/28] LOSS:[1.9900500] ACC:[0.6839172] MAX TEST ACC:0.7097930\n",
      "TRAIN: [12121/30] LOSS:[1.3689994/6.8049115] ACC:[1.0000000/0.7627384]\n",
      "TEST>>: [12121/30] LOSS:[1.9205784] ACC:[0.6968551] MAX TEST ACC:0.7097930\n",
      "TRAIN: [12903/32] LOSS:[0.7706674/6.4310071] ACC:[1.0000000/0.7770870]\n",
      "TEST>>: [12903/32] LOSS:[1.8231939] ACC:[0.7061107] MAX TEST ACC:0.7097930\n",
      "TRAIN: [13685/34] LOSS:[0.8317426/6.0945051] ACC:[0.9875000/0.7898022]\n",
      "TEST>>: [13685/34] LOSS:[1.7947015] ACC:[0.7099920] MAX TEST ACC:0.7099920\n",
      "TRAIN: [14467/36] LOSS:[0.5398365/5.7927137] ACC:[1.0000000/0.8011405]\n",
      "TEST>>: [14467/36] LOSS:[1.7744559] ACC:[0.7023288] MAX TEST ACC:0.7099920\n",
      "TRAIN: [15249/38] LOSS:[0.9163406/5.5221157] ACC:[1.0000000/0.8113135]\n",
      "TEST>>: [15249/38] LOSS:[1.7681752] ACC:[0.7028264] MAX TEST ACC:0.7099920\n"
     ]
    }
   ],
   "source": [
    "model_with_center_loss,size_size=getmodel()\n",
    "model_ability_with_center_loss=train_test(model_with_center_loss,True,size_size)"
   ]
  },
  {
   "cell_type": "code",
   "execution_count": 14,
   "metadata": {},
   "outputs": [
    {
     "data": {
      "image/png": "[encoded data removed]",
      "text/plain": [
       "<Figure size 432x288 with 1 Axes>"
      ]
     },
     "metadata": {},
     "output_type": "display_data"
    }
   ],
   "source": [
    "plt.grid(True)\n",
    "plt.plot(model_ability_without_center_loss['train_loss'],color='red')\n",
    "plt.plot(model_ability_with_center_loss['train_loss'],color='blue')\n",
    "plt.legend(['train_loss_without_center','train_loss_with_center'])\n",
    "plt.show()"
   ]
  },
  {
   "cell_type": "code",
   "execution_count": 15,
   "metadata": {},
   "outputs": [
    {
     "data": {
      "image/png": "[encoded data removed]",
      "text/plain": [
       "<Figure size 432x288 with 1 Axes>"
      ]
     },
     "metadata": {},
     "output_type": "display_data"
    }
   ],
   "source": [
    "plt.grid(True)\n",
    "plt.plot(model_ability_without_center_loss['test_loss'],color='red')\n",
    "plt.plot(model_ability_with_center_loss['test_loss'],color='blue')\n",
    "plt.legend(['test_loss_without_center','test_loss_with_center'])\n",
    "plt.show()"
   ]
  },
  {
   "cell_type": "code",
   "execution_count": 16,
   "metadata": {},
   "outputs": [
    {
     "data": {
      "image/png": "[encoded data removed]",
      "text/plain": [
       "<Figure size 432x288 with 1 Axes>"
      ]
     },
     "metadata": {},
     "output_type": "display_data"
    }
   ],
   "source": [
    "plt.grid(True)\n",
    "plt.plot(model_ability_without_center_loss['train_acc'],color='red')\n",
    "plt.plot(model_ability_with_center_loss['train_acc'],color='blue')\n",
    "plt.legend(['train_acc_without_center','train_acc_with_center'])\n",
    "plt.show()"
   ]
  },
  {
   "cell_type": "code",
   "execution_count": 17,
   "metadata": {},
   "outputs": [
    {
     "data": {
      "image/png": "[encoded data removed]",
      "text/plain": [
       "<Figure size 432x288 with 1 Axes>"
      ]
     },
     "metadata": {},
     "output_type": "display_data"
    }
   ],
   "source": [
    "plt.grid(True)\n",
    "plt.plot(model_ability_without_center_loss['test_acc'],color='red')\n",
    "plt.plot(model_ability_with_center_loss['test_acc'],color='blue')\n",
    "plt.legend(['test_acc_without_center','test_acc_with_center'])\n",
    "plt.show()"
   ]
  },
  {
   "cell_type": "code",
   "execution_count": 18,
   "metadata": {},
   "outputs": [
    {
     "name": "stdout",
     "output_type": "stream",
     "text": [
      "test_max_acc_without_center: 0.6740644904458599\n",
      "test_max_acc_with_center: 0.7099920382165604\n"
     ]
    }
   ],
   "source": [
    "print('test_max_acc_without_center:',model_ability_without_center_loss['test_max_acc'])\n",
    "print('test_max_acc_with_center:',model_ability_with_center_loss['test_max_acc'])"
   ]
  },
  {
   "cell_type": "code",
   "execution_count": null,
   "metadata": {},
   "outputs": [],
   "source": []
  }
 ],
 "metadata": {
  "kernelspec": {
   "display_name": "Python 3",
   "language": "python",
   "name": "python3"
  },
  "language_info": {
   "codemirror_mode": {
    "name": "ipython",
    "version": 3
   },
   "file_extension": ".py",
   "mimetype": "text/x-python",
   "name": "python",
   "nbconvert_exporter": "python",
   "pygments_lexer": "ipython3",
   "version": "3.6.2"
  }
 },
 "nbformat": 4,
 "nbformat_minor": 2
}
